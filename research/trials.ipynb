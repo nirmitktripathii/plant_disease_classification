{
 "cells": [
  {
   "cell_type": "code",
   "execution_count": null,
   "metadata": {},
   "outputs": [],
   "source": [
    "import os\n",
    "os.getcwd()"
   ]
  },
  {
   "cell_type": "code",
   "execution_count": null,
   "metadata": {},
   "outputs": [],
   "source": [
    "# import tensorflow as tf"
   ]
  },
  {
   "cell_type": "code",
   "execution_count": null,
   "metadata": {},
   "outputs": [],
   "source": [
    "import os\n",
    "from tensorboard import summary\n",
    "import tensorflow as tf\n",
    "from tensorflow.keras.preprocessing.image import ImageDataGenerator\n",
    "\n",
    "class BNNDCNet(tf.keras.Model):\n",
    "    def __init__(self, input_shape=(224,224,3), num_disease_classes=3, num_species_classes=3):\n",
    "        super(BNNDCNet, self).__init__(name = \"\")\n",
    "\n",
    "        self.shape_input = input_shape\n",
    "        self.num_disease_classes = num_disease_classes\n",
    "        self.num_species_classes = num_species_classes\n",
    "   \n",
    "        self.neck = tf.keras.Sequential([\n",
    "            tf.keras.layers.Conv2D(32, (3, 3), activation='relu', padding='same'),\n",
    "            tf.keras.layers.BatchNormalization(),\n",
    "            tf.keras.layers.MaxPooling2D((2,2)),\n",
    "\n",
    "            tf.keras.layers.Conv2D(64, (3, 3), activation='relu', padding='same'),\n",
    "            tf.keras.layers.BatchNormalization(),\n",
    "            tf.keras.layers.MaxPooling2D((2,2)),\n",
    "\n",
    "            tf.keras.layers.Conv2D(256, (3, 3), activation='relu', padding='same'),\n",
    "            tf.keras.layers.BatchNormalization(),\n",
    "            tf.keras.layers.MaxPooling2D((2,2)),\n",
    "\n",
    "            tf.keras.layers.Flatten(),\n",
    "            tf.keras.layers.Dense(self.num_species_classes, activation='softmax'),\n",
    "\n",
    "        ])\n",
    "\n",
    "    def call(self, image_tensor, num_disease_classes=3, num_species_classes=3):\n",
    "            layers = self.neck.layers\n",
    "            output = image_tensor\n",
    "            for layer in layers[:-2]:\n",
    "                output = layer(output)\n",
    "            conv_neck_output = output\n",
    "            species_classification_output = self.neck(image_tensor) \n",
    "\n",
    "\n",
    "            return (species_classification_output, conv_neck_output)\n",
    "        # self.body = tf.keras.Sequential([\n",
    "        #     tf.keras.layers.Conv2D(32, (3, 3), activation='relu', padding='same'),\n",
    "        #     tf.keras.layers.BatchNormalization(),\n",
    "        #     tf.keras.layers.MaxPooling2D((2,2)),\n",
    "        # ])"
   ]
  },
  {
   "cell_type": "code",
   "execution_count": null,
   "metadata": {},
   "outputs": [],
   "source": [
    "# Compile the model.\n",
    "# model = BNNDCNet()\n",
    "# model.compile(loss={'binary_prediction_head': 'binary_crossentropy', 'disease_prediction_head': 'categorical_crossentropy'}, optimizer='adam', metrics=['accuracy'])"
   ]
  },
  {
   "cell_type": "code",
   "execution_count": null,
   "metadata": {},
   "outputs": [],
   "source": [
    "from PIL import Image\n",
    "img_path= r\"E:\\Corn_Wheat_Dataset\\Wheat__yellow_rust\\lolr(40).JPG\"\n"
   ]
  },
  {
   "cell_type": "code",
   "execution_count": null,
   "metadata": {},
   "outputs": [],
   "source": [
    "import numpy as np\n",
    "def load_and_preprocess_image(image_path):\n",
    "    # Load the image from the file path\n",
    "    image = tf.io.read_file(image_path)\n",
    "    image = tf.image.decode_image(image, channels=3)  # Ensure it has 3 channels\n",
    "\n",
    "    # Resize and crop the image to 224x224\n",
    "    image = tf.image.resize(image, (256, 256))  # Resize to a larger size\n",
    "    image = tf.image.random_crop(image, size=[224, 224, 3])  # Randomly crop to 224x224\n",
    "    image = tf.image.random_flip_left_right(image)  # Randomly flip horizontally (optional)\n",
    "\n",
    "    # Normalize the pixel values to the [0, 1] range\n",
    "    image = tf.cast(image, tf.float32) / 255.0\n",
    "    return image\n",
    "\n",
    "image_tensor = load_and_preprocess_image(img_path)\n",
    "image_tensor = tf.expand_dims(image_tensor, axis=0)\n",
    "\n",
    "# print(image_tensor)"
   ]
  },
  {
   "cell_type": "code",
   "execution_count": null,
   "metadata": {},
   "outputs": [],
   "source": [
    "image_tensor"
   ]
  },
  {
   "cell_type": "code",
   "execution_count": 14,
   "metadata": {},
   "outputs": [],
   "source": [
    "# Example usage:\n",
    "input_shape = (224, 224, 3)\n",
    "num_disease_classes = 3  # Assuming 3 disease classes\n",
    "num_species_classes = 2  # Assuming 2 species classes\n",
    "model = BNNDCNet(input_shape, num_disease_classes, num_species_classes)\n",
    "# model.build_model()\n",
    "# Wrap the image tensor in a batch dimension.\n",
    "\n"
   ]
  },
  {
   "cell_type": "code",
   "execution_count": 15,
   "metadata": {},
   "outputs": [],
   "source": [
    "# layers = model.neck.layers\n",
    "# output = image_tensor\n",
    "# for layer in layers[:-2]:\n",
    "#     output = layer(output)\n",
    "\n",
    "output = model(image_tensor)"
   ]
  },
  {
   "cell_type": "code",
   "execution_count": 16,
   "metadata": {},
   "outputs": [
    {
     "data": {
      "text/plain": [
       "(<tf.Tensor: shape=(1, 2), dtype=float32, numpy=array([[0.52965456, 0.47034544]], dtype=float32)>,\n",
       " <tf.Tensor: shape=(1, 28, 28, 256), dtype=float32, numpy=\n",
       " array([[[[0.05338345, 0.18323705, 0.0869627 , ..., 0.07791527,\n",
       "           0.17302197, 0.06479341],\n",
       "          [0.        , 0.19613664, 0.09701678, ..., 0.09431785,\n",
       "           0.16671818, 0.06761944],\n",
       "          [0.        , 0.224177  , 0.10090378, ..., 0.10112184,\n",
       "           0.17394574, 0.07610101],\n",
       "          ...,\n",
       "          [0.        , 0.2014963 , 0.08990747, ..., 0.08474667,\n",
       "           0.16778511, 0.06371424],\n",
       "          [0.        , 0.18453677, 0.07925399, ..., 0.07735298,\n",
       "           0.15292805, 0.05570308],\n",
       "          [0.        , 0.18778133, 0.07682764, ..., 0.06389066,\n",
       "           0.121874  , 0.06333181]],\n",
       " \n",
       "         [[0.02337978, 0.19465412, 0.08082329, ..., 0.10106216,\n",
       "           0.17664571, 0.04002831],\n",
       "          [0.        , 0.20316008, 0.0923388 , ..., 0.11501164,\n",
       "           0.16679513, 0.03785555],\n",
       "          [0.        , 0.23421761, 0.08986659, ..., 0.13778302,\n",
       "           0.17956994, 0.06394808],\n",
       "          ...,\n",
       "          [0.        , 0.23023199, 0.1050677 , ..., 0.11686225,\n",
       "           0.18178849, 0.05077926],\n",
       "          [0.        , 0.2197693 , 0.10159197, ..., 0.11264957,\n",
       "           0.16890223, 0.04896555],\n",
       "          [0.        , 0.21575904, 0.08725899, ..., 0.09211257,\n",
       "           0.13258053, 0.04593654]],\n",
       " \n",
       "         [[0.02062596, 0.204776  , 0.08580609, ..., 0.10900794,\n",
       "           0.1788765 , 0.04679786],\n",
       "          [0.        , 0.20488705, 0.10223269, ..., 0.11021298,\n",
       "           0.16704653, 0.03946687],\n",
       "          [0.        , 0.22096258, 0.0928081 , ..., 0.13558051,\n",
       "           0.18129697, 0.054492  ],\n",
       "          ...,\n",
       "          [0.        , 0.2326848 , 0.12391057, ..., 0.1166301 ,\n",
       "           0.1861623 , 0.04334964],\n",
       "          [0.        , 0.22927907, 0.11795682, ..., 0.11401668,\n",
       "           0.17856741, 0.04446382],\n",
       "          [0.        , 0.2282327 , 0.09769177, ..., 0.09165669,\n",
       "           0.1442742 , 0.05842026]],\n",
       " \n",
       "         ...,\n",
       " \n",
       "         [[0.03620493, 0.06885345, 0.02514771, ..., 0.05990249,\n",
       "           0.12575898, 0.00859045],\n",
       "          [0.        , 0.05751492, 0.01976887, ..., 0.07222421,\n",
       "           0.11985599, 0.03679562],\n",
       "          [0.        , 0.08066801, 0.01566849, ..., 0.06730576,\n",
       "           0.08299472, 0.04693672],\n",
       "          ...,\n",
       "          [0.        , 0.20965834, 0.10509025, ..., 0.11646869,\n",
       "           0.18330589, 0.03913732],\n",
       "          [0.        , 0.21076046, 0.09817176, ..., 0.10688303,\n",
       "           0.18111317, 0.04001965],\n",
       "          [0.        , 0.2147455 , 0.10147069, ..., 0.09358278,\n",
       "           0.1551005 , 0.05519823]],\n",
       " \n",
       "         [[0.00110171, 0.14863324, 0.04372573, ..., 0.08429205,\n",
       "           0.09477578, 0.04234676],\n",
       "          [0.        , 0.16410096, 0.07562929, ..., 0.07971279,\n",
       "           0.10898048, 0.04269103],\n",
       "          [0.        , 0.17110272, 0.08154266, ..., 0.08398329,\n",
       "           0.11399382, 0.02779905],\n",
       "          ...,\n",
       "          [0.        , 0.20932736, 0.09666657, ..., 0.11564723,\n",
       "           0.17992543, 0.04439032],\n",
       "          [0.        , 0.20751028, 0.10010111, ..., 0.11236922,\n",
       "           0.18134658, 0.04596991],\n",
       "          [0.        , 0.212306  , 0.09833312, ..., 0.09161904,\n",
       "           0.14848734, 0.05690744]],\n",
       " \n",
       "         [[0.04413119, 0.17586277, 0.07761949, ..., 0.06921449,\n",
       "           0.13708392, 0.05149121],\n",
       "          [0.        , 0.18266141, 0.09137233, ..., 0.07934349,\n",
       "           0.13959552, 0.04447763],\n",
       "          [0.        , 0.18405665, 0.09046663, ..., 0.08125103,\n",
       "           0.15489292, 0.03808084],\n",
       "          ...,\n",
       "          [0.03194159, 0.15844285, 0.0610177 , ..., 0.06426553,\n",
       "           0.16325115, 0.00948115],\n",
       "          [0.03324359, 0.18392783, 0.07059783, ..., 0.07266295,\n",
       "           0.15867595, 0.02679068],\n",
       "          [0.04211558, 0.20716262, 0.09118792, ..., 0.082461  ,\n",
       "           0.14131498, 0.05385028]]]], dtype=float32)>)"
      ]
     },
     "execution_count": 16,
     "metadata": {},
     "output_type": "execute_result"
    }
   ],
   "source": [
    "output"
   ]
  },
  {
   "cell_type": "code",
   "execution_count": null,
   "metadata": {},
   "outputs": [],
   "source": []
  }
 ],
 "metadata": {
  "kernelspec": {
   "display_name": "plant_disease",
   "language": "python",
   "name": "python3"
  },
  "language_info": {
   "codemirror_mode": {
    "name": "ipython",
    "version": 3
   },
   "file_extension": ".py",
   "mimetype": "text/x-python",
   "name": "python",
   "nbconvert_exporter": "python",
   "pygments_lexer": "ipython3",
   "version": "3.9.5"
  }
 },
 "nbformat": 4,
 "nbformat_minor": 2
}
